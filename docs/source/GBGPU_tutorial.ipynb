{
 "cells": [
  {
   "cell_type": "markdown",
   "metadata": {},
   "source": [
    "## GBGPU Tutorial"
   ]
  },
  {
   "cell_type": "markdown",
   "metadata": {},
   "source": [
    "`GBGPU` is a GPU-accelerated version of the `FastGB` waveform which has been developed by Neil Cornish, Tyson Littenberg, Travis Robson, and Stas Babak. It computes gravitational waveforms for Galactic binary systems observable by LISA using a fast/slow-type decomposition. For more details on the original construction of `FastGB` see [arXiv:0704.1808](https://arxiv.org/abs/0704.1808).\n",
    "\n",
    "The current version of the code is very closely related to the implementation of `FastGB` in the LISA Data Challenges' Python code package. The waveform code is entirely Python-based. It is about 1/2 the speed of the full C version, but much simpler in Python for right now. There are also many additional functions including fast likelihood computations for individual Galactic binaries, as well as fast C-based methods to combine waveforms into global fitting templates. \n",
    "\n",
    "The code is CPU/GPU agnostic. CUDA and NVIDIA GPUs are required to run these codes for GPUs.\n",
    "\n",
    "See the [documentation](https://mikekatz04.github.io/GBGPU/html/index.html) for more details. This code was designed for (# TODO: add new arxiv number). If you use any part of this code, please cite (# TODO: add new arxiv number), its [Zenodo page](https://zenodo.org/record/6500434#.YmpofxNBzlw), [arXiv:0704.1808](https://arxiv.org/abs/0704.1808), and [arXiv:1806.00500](https://arxiv.org/abs/1806.00500). "
   ]
  },
  {
   "cell_type": "code",
   "execution_count": 1,
   "metadata": {},
   "outputs": [],
   "source": [
    "import numpy as np\n",
    "import time\n",
    "\n",
    "import matplotlib.pyplot as plt\n",
    "%matplotlib inline\n",
    "\n",
    "from gbgpu.gbgpu import GBGPU\n",
    "from gbgpu.thirdbody import GBGPUThirdBody\n",
    "\n",
    "from gbgpu.utils.constants import *\n",
    "from gbgpu.utils.utility import *"
   ]
  },
  {
   "cell_type": "markdown",
   "metadata": {},
   "source": [
    "## Generating Galactic binary waveforms"
   ]
  },
  {
   "cell_type": "markdown",
   "metadata": {},
   "source": [
    "Initialize the waveform class."
   ]
  },
  {
   "cell_type": "code",
   "execution_count": 2,
   "metadata": {},
   "outputs": [],
   "source": [
    "gb = GBGPU(use_gpu=False)"
   ]
  },
  {
   "cell_type": "markdown",
   "metadata": {},
   "source": [
    "Setup all the binary information. GBGPU operates in a vectorized manner, so it takes arrays of parameters as inputs."
   ]
  },
  {
   "cell_type": "code",
   "execution_count": 3,
   "metadata": {},
   "outputs": [],
   "source": [
    "dt = 10.0\n",
    "Tobs = 4.0 * YEAR\n",
    "\n",
    "\n",
    "# number of points in waveform\n",
    "# if None, will determine inside the code based on amp, f0 (and P2 if running third-body waveform)\n",
    "N = None\n",
    "\n",
    "# number of binaries to batch\n",
    "num_bin = 10\n",
    "\n",
    "# parameters\n",
    "amp = 2e-23  # amplitude\n",
    "f0 = 2e-3  # f0\n",
    "fdot = 7.538331e-18  # fdot\n",
    "fddot = 0.0 # fddot\n",
    "phi0 = 0.1  # initial phase\n",
    "iota = 0.2  # inclination\n",
    "psi = 0.3  # polarization angle\n",
    "lam = 0.4  # ecliptic longitude\n",
    "beta_sky = 0.5  # ecliptic latitude\n",
    "\n",
    "\n",
    "# for batching\n",
    "amp_in = np.full(num_bin, amp)\n",
    "f0_in = np.full(num_bin, f0)\n",
    "fdot_in = np.full(num_bin, fdot)\n",
    "fddot_in = np.full(num_bin, fddot)\n",
    "phi0_in = np.full(num_bin, phi0)\n",
    "iota_in = np.full(num_bin, iota)\n",
    "psi_in = np.full(num_bin, psi)\n",
    "lam_in = np.full(num_bin, lam)\n",
    "beta_sky_in = np.full(num_bin, beta_sky)\n"
   ]
  },
  {
   "cell_type": "markdown",
   "metadata": {},
   "source": [
    "Generate the waveforms."
   ]
  },
  {
   "cell_type": "code",
   "execution_count": 4,
   "metadata": {},
   "outputs": [
    {
     "name": "stdout",
     "output_type": "stream",
     "text": [
      "signal length: (512,)\n"
     ]
    },
    {
     "data": {
      "text/plain": [
       "(0.0019993, 0.0020007000000000002)"
      ]
     },
     "execution_count": 4,
     "metadata": {},
     "output_type": "execute_result"
    },
    {
     "data": {
      "image/png": "[encoded data removed]",
      "text/plain": [
       "<Figure size 432x288 with 1 Axes>"
      ]
     },
     "metadata": {
      "needs_background": "light"
     },
     "output_type": "display_data"
    }
   ],
   "source": [
    "params = np.array(\n",
    "    [amp_in, f0_in, fdot_in, fddot_in, phi0_in, iota_in, psi_in, lam_in, beta_sky_in,]\n",
    ")\n",
    "\n",
    "gb.run_wave(*params, N=N, dt=dt, T=Tobs, oversample=2)\n",
    "\n",
    "# signal from first binary\n",
    "A = gb.A[0]\n",
    "freqs = gb.freqs[0]\n",
    "print(\"signal length:\", A.shape)\n",
    "plt.plot(freqs, np.abs(A))\n",
    "plt.ylabel(\"TDI-A Channel\", fontsize=16)\n",
    "plt.xlabel(\"freqs (Hz)\", fontsize=16)\n",
    "dx = 7e-7\n",
    "plt.xlim(f0 - dx, f0 + dx)"
   ]
  },
  {
   "cell_type": "markdown",
   "metadata": {},
   "source": [
    "## Adding additional GB astrophysics"
   ]
  },
  {
   "cell_type": "markdown",
   "metadata": {},
   "source": [
    "It is possible in `GBGPU` to inherit a special class [(`gbgpu.gbgpu.InheritGBGPU`)](https://mikekatz04.github.io/GBGPU/html/user/derivedwaves.html#gbgpu.gbgpu.InheritGBGPU) that allows users to add other types of astrophysics to the FastGB waveform. This requires that the astrophysical effects vary slowly.\n",
    "\n",
    "The methods that need to be written when adding astrophysics are `prepare_additional_args`, `special_get_N`, `shift_frequency`, and `add_to_argS`.\n",
    "\n",
    "`prepare_additional_args`: Prepares all arguments beyond the base GB parameters.\n",
    "\n",
    "`special_get_N`: Implemented if the new setup puts limitations on the sampling rate in the time-domain for the slow part of the waveform. \n",
    "\n",
    "`shift_frequency`: Shifts the frequency in the slow computation. \n",
    "\n",
    "`add_to_argS`: Adjusts the phasing in the transfer function of the slow waveform.  \n",
    "\n",
    "See [`gbgpu.thirdbody.GBGPUThirdBody`](https://mikekatz04.github.io/GBGPU/html/user/derivedwaves.html#gbgpu.thirdbody.ThirdBody) for an example and more information."
   ]
  },
  {
   "cell_type": "markdown",
   "metadata": {},
   "source": [
    "### Example: Third-body in orbit around the inner binary"
   ]
  },
  {
   "cell_type": "code",
   "execution_count": 5,
   "metadata": {},
   "outputs": [],
   "source": [
    "gb_third = GBGPUThirdBody(use_gpu=False)\n",
    "\n",
    "A2 = 400.0  # third body amplitude parameter\n",
    "varpi = 0.0  # varpi phase parameter\n",
    "e2 = 0.3  # eccentricity of third body\n",
    "P2 = 1.2  # period of third body\n",
    "T2 = 0.5 * P2  # time of periapsis passage of third body\n",
    "\n",
    "\n",
    "A2_in = np.full(num_bin, A2)\n",
    "P2_in = np.full(num_bin, P2)\n",
    "varpi_in = np.full(num_bin, varpi)\n",
    "e2_in = np.full(num_bin, e2)\n",
    "T2_in = np.full(num_bin, T2)"
   ]
  },
  {
   "cell_type": "code",
   "execution_count": 6,
   "metadata": {},
   "outputs": [
    {
     "name": "stdout",
     "output_type": "stream",
     "text": [
      "Third-body signal length: (512,)\n"
     ]
    },
    {
     "data": {
      "text/plain": [
       "(0.0019993, 0.0020007000000000002)"
      ]
     },
     "execution_count": 6,
     "metadata": {},
     "output_type": "execute_result"
    },
    {
     "data": {
      "image/png": "[encoded data removed]",
      "text/plain": [
       "<Figure size 432x288 with 1 Axes>"
      ]
     },
     "metadata": {
      "needs_background": "light"
     },
     "output_type": "display_data"
    }
   ],
   "source": [
    "params = np.array(\n",
    "    [amp_in, f0_in, fdot_in, fddot_in, phi0_in, iota_in, psi_in, lam_in, beta_sky_in, A2_in, varpi_in, e2_in, P2_in, T2_in]\n",
    ")\n",
    "\n",
    "gb_third.run_wave(*params, N=N, dt=dt, T=Tobs, oversample=2)\n",
    "\n",
    "# signal from first binary\n",
    "A_third = gb_third.A[0]\n",
    "freqs = gb_third.freqs[0]\n",
    "print(\"Third-body signal length:\", A_third.shape)\n",
    "plt.plot(freqs, np.abs(A), label=\"No third body\")\n",
    "plt.plot(freqs, np.abs(A_third), label=\"No third body\")\n",
    "plt.ylabel(\"TDI-A Channel\", fontsize=16)\n",
    "plt.xlabel(\"freqs (Hz)\", fontsize=16)\n",
    "dx = 7e-7\n",
    "plt.xlim(f0 - dx, f0 + dx)"
   ]
  },
  {
   "cell_type": "markdown",
   "metadata": {},
   "source": [
    "## Calculating the Information Matrix"
   ]
  },
  {
   "cell_type": "code",
   "execution_count": 7,
   "metadata": {},
   "outputs": [
    {
     "data": {
      "text/plain": [
       "(10, 8, 8)"
      ]
     },
     "execution_count": 7,
     "metadata": {},
     "output_type": "execute_result"
    }
   ],
   "source": [
    "params = np.array(\n",
    "    [amp_in, f0_in, fdot_in, fddot_in, phi0_in, iota_in, psi_in, lam_in, beta_sky_in,]\n",
    ")\n",
    "\n",
    "inds = np.array([0, 1, 2, 4, 5, 6, 7, 8])\n",
    "\n",
    "info_matrix = gb.information_matrix(\n",
    "    params,\n",
    "    easy_central_difference=False,\n",
    "    eps=1e-9,\n",
    "    inds=inds,\n",
    "    N=1024,\n",
    "    dt=dt,\n",
    "    T=Tobs,\n",
    ")\n",
    "\n",
    "cov = np.linalg.pinv(info_matrix)\n",
    "\n",
    "cov.shape"
   ]
  },
  {
   "cell_type": "markdown",
   "metadata": {},
   "source": [
    "Covariance Matrix for first binary:"
   ]
  },
  {
   "cell_type": "code",
   "execution_count": 8,
   "metadata": {},
   "outputs": [
    {
     "data": {
      "text/plain": [
       "array([[ 2.59077356e-03, -1.73881105e-11,  5.79303854e-06,\n",
       "        -9.34813784e-06, -1.04002859e-04, -5.60750479e-05,\n",
       "         1.67605334e-05,  9.25171196e-05],\n",
       "       [-1.73881104e-11,  1.22082662e-14,  1.64237500e-09,\n",
       "        -2.54833541e-09,  1.37966733e-13, -1.52900681e-08,\n",
       "         5.16215869e-10, -3.66331834e-10],\n",
       "       [ 5.79303858e-06,  1.64237500e-09,  3.24595981e-04,\n",
       "        -5.03938709e-04, -3.47043395e-07, -3.02364387e-03,\n",
       "         1.81105534e-05,  1.29976949e-04],\n",
       "       [-9.34813786e-06, -2.54833541e-09, -5.03938709e-04,\n",
       "         7.82376988e-04,  5.53048679e-07,  4.69427999e-03,\n",
       "        -2.96655655e-05, -2.05333283e-04],\n",
       "       [-1.04002859e-04,  1.37967094e-13, -3.47043323e-07,\n",
       "         5.53048569e-07,  4.17508525e-06,  3.31774245e-06,\n",
       "        -6.68420959e-07, -3.78390944e-06],\n",
       "       [-5.60750482e-05, -1.52900681e-08, -3.02364387e-03,\n",
       "         4.69427999e-03,  3.31774311e-06,  2.81657883e-02,\n",
       "        -1.78010037e-04, -1.23202090e-03],\n",
       "       [ 1.67605334e-05,  5.16215870e-10,  1.81105534e-05,\n",
       "        -2.96655655e-05, -6.68420965e-07, -1.78010037e-04,\n",
       "         1.55073927e-03,  4.16053556e-04],\n",
       "       [ 9.25171196e-05, -3.66331834e-10,  1.29976949e-04,\n",
       "        -2.05333283e-04, -3.78390947e-06, -1.23202090e-03,\n",
       "         4.16053556e-04,  2.04009063e-03]])"
      ]
     },
     "execution_count": 8,
     "metadata": {},
     "output_type": "execute_result"
    }
   ],
   "source": [
    "cov[0]"
   ]
  },
  {
   "cell_type": "markdown",
   "metadata": {},
   "source": [
    "Standard deviation on the marginalized parameters:"
   ]
  },
  {
   "cell_type": "code",
   "execution_count": 9,
   "metadata": {},
   "outputs": [
    {
     "data": {
      "text/plain": [
       "array([1.01799284e-24, 2.20982046e-10, 1.35814698e-19, 2.79710026e-03,\n",
       "       4.08660507e-04, 5.03479985e-02, 1.57517708e-02, 2.25836812e-02])"
      ]
     },
     "execution_count": 9,
     "metadata": {},
     "output_type": "execute_result"
    }
   ],
   "source": [
    "params[inds, 0] * cov[0].diagonal() ** (1/2)"
   ]
  },
  {
   "cell_type": "markdown",
   "metadata": {},
   "source": [
    "Plot the Information Matrix ellipse for the intial frequency and frequency derivative:"
   ]
  },
  {
   "cell_type": "code",
   "execution_count": 10,
   "metadata": {},
   "outputs": [
    {
     "data": {
      "text/plain": [
       "[<matplotlib.lines.Line2D at 0x7fc8d2892310>]"
      ]
     },
     "execution_count": 10,
     "metadata": {},
     "output_type": "execute_result"
    },
    {
     "data": {
      "image/png": "[encoded data removed]",
      "text/plain": [
       "<Figure size 432x288 with 1 Axes>"
      ]
     },
     "metadata": {
      "needs_background": "light"
     },
     "output_type": "display_data"
    }
   ],
   "source": [
    "ind1 = 1 \n",
    "ind2 = 2\n",
    "inds_get = np.array([\n",
    "    [ind1, ind1],\n",
    "    [ind1, ind2],\n",
    "    [ind2, ind1],\n",
    "    [ind2, ind2]\n",
    "]).T\n",
    "sub_mat = cov[0][tuple(inds_get)].reshape(2, 2)\n",
    "\n",
    "# calculate and draw covariance ellipse\n",
    "a, b, b, c = sub_mat.flatten()\n",
    "\n",
    "lam1 = (a + c) / 2. + np.sqrt(((a-c)/2) ** 2 + b ** 2)\n",
    "lam2 = (a + c) / 2. - np.sqrt(((a-c)/2) ** 2 + b ** 2)\n",
    "\n",
    "if b == 0. and a >= c:\n",
    "    theta = 0.0\n",
    "elif b == 0. and a < c:\n",
    "    theta = np.pi / 2.\n",
    "else:\n",
    "    theta = -np.arctan2(lam1 - a, b)\n",
    "\n",
    "t_vals = np.linspace(0., 2 * np.pi, 1000)\n",
    "x = np.sqrt(lam1) * np.cos(theta) * np.cos(t_vals) - np.sqrt(lam2) * np.sin(theta) * np.sin(t_vals)\n",
    "y = np.sqrt(lam1) * np.sin(theta) * np.cos(t_vals) + np.sqrt(lam2) * np.cos(theta) * np.sin(t_vals)\n",
    "\n",
    "x_in = params[1, 0] * (1 + x)\n",
    "y_in = params[2, 0] * (1 + y)\n",
    "plt.plot(x_in, y_in)"
   ]
  },
  {
   "cell_type": "markdown",
   "metadata": {},
   "source": [
    "## Utility functions"
   ]
  },
  {
   "cell_type": "markdown",
   "metadata": {},
   "source": [
    "`GBGPU` provides many utility functions. Below are some examples of `GBGPU` utility functions. This may not include all utility functions. See the [utility documentation](https://mikekatz04.github.io/GBGPU/html/user/utils.html#gbgpu-utility-functions) for all included utility functions."
   ]
  },
  {
   "cell_type": "markdown",
   "metadata": {},
   "source": [
    "### Get the instantaneous gravitational wave frequency"
   ]
  },
  {
   "cell_type": "markdown",
   "metadata": {},
   "source": [
    "Given $f_0$, $\\dot{f}_0$, and $\\ddot{f}_0$ calculate the instantaneous frequency of the gravitational waves approximating the frequency evolution to quadratic order:"
   ]
  },
  {
   "cell_type": "code",
   "execution_count": 11,
   "metadata": {},
   "outputs": [
    {
     "data": {
      "text/plain": [
       "Text(0, 0.5, '$f_{gw}$ (Hz)')"
      ]
     },
     "execution_count": 11,
     "metadata": {},
     "output_type": "execute_result"
    },
    {
     "data": {
      "image/png": "[encoded data removed]",
      "text/plain": [
       "<Figure size 432x288 with 1 Axes>"
      ]
     },
     "metadata": {
      "needs_background": "light"
     },
     "output_type": "display_data"
    }
   ],
   "source": [
    "num = 15\n",
    "f0 = np.random.uniform(0.001, 0.002, num)\n",
    "fdot = np.random.uniform(1e-17, 2e-17, num)\n",
    "fddot = np.random.uniform(1e-28, 2e-28, num)\n",
    "\n",
    "t = np.arange(0.0, 10 * YEAR, YEAR/200)\n",
    "\n",
    "# cast t to be for all binaries\n",
    "t = t[None, :]\n",
    "\n",
    "f = get_fGW(f0, fdot, fddot, t)\n",
    "\n",
    "plt.plot(t[0], f[0])\n",
    "plt.xlabel(r\"$t$ (s)\")\n",
    "plt.ylabel(r\"$f_{gw}$ (Hz)\")\n"
   ]
  },
  {
   "cell_type": "markdown",
   "metadata": {},
   "source": [
    "### Get amplitude (for slowly evolving source)"
   ]
  },
  {
   "cell_type": "code",
   "execution_count": 12,
   "metadata": {},
   "outputs": [
    {
     "name": "stdout",
     "output_type": "stream",
     "text": [
      "[6.37190427e-23 6.37190427e-23 6.37190427e-23 6.37190427e-23\n",
      " 6.37190427e-23 6.37190427e-23 6.37190427e-23 6.37190427e-23\n",
      " 6.37190427e-23 6.37190427e-23 6.37190427e-23 6.37190427e-23\n",
      " 6.37190427e-23 6.37190427e-23 6.37190427e-23]\n"
     ]
    }
   ],
   "source": [
    "m1 = np.full(num, 0.2)\n",
    "m2 = np.full(num, 0.1)\n",
    "f0 = np.full(num, 0.1)\n",
    "d = np.full(num, 6.0)  # kpc\n",
    "amp = get_amplitude(m1, m2, f0, d)\n",
    "\n",
    "print(amp)"
   ]
  },
  {
   "cell_type": "markdown",
   "metadata": {},
   "source": [
    "### Get $\\dot{f}$"
   ]
  },
  {
   "cell_type": "code",
   "execution_count": 13,
   "metadata": {},
   "outputs": [
    {
     "name": "stdout",
     "output_type": "stream",
     "text": [
      "[1.73056526e-19 1.73056526e-19 1.73056526e-19 1.73056526e-19\n",
      " 1.73056526e-19 1.73056526e-19 1.73056526e-19 1.73056526e-19\n",
      " 1.73056526e-19 1.73056526e-19 1.73056526e-19 1.73056526e-19\n",
      " 1.73056526e-19 1.73056526e-19 1.73056526e-19]\n"
     ]
    }
   ],
   "source": [
    "m1 = np.full(num, 0.2)\n",
    "m2 = np.full(num, 0.1)\n",
    "f0 = np.full(num, 0.001)\n",
    "\n",
    "fdot = get_fdot(f0, m1=m1, m2=m2)\n",
    "\n",
    "print(fdot)"
   ]
  },
  {
   "cell_type": "markdown",
   "metadata": {},
   "source": [
    "### Determine necessary sampling rate in the time-domin"
   ]
  },
  {
   "cell_type": "code",
   "execution_count": 14,
   "metadata": {},
   "outputs": [
    {
     "data": {
      "text/plain": [
       "array([256, 256, 256, 256, 256, 256, 256, 256, 256, 256, 256, 256, 256,\n",
       "       256, 256])"
      ]
     },
     "execution_count": 14,
     "metadata": {},
     "output_type": "execute_result"
    }
   ],
   "source": [
    "get_N(amp, f0, Tobs, oversample=1)"
   ]
  },
  {
   "cell_type": "markdown",
   "metadata": {},
   "source": [
    "### Adjust OMP usage in C functions"
   ]
  },
  {
   "cell_type": "markdown",
   "metadata": {},
   "source": [
    "When using openMP, it defaults to using all threads. To limit this, use `gbgpu.utils.utility.omp_set_num_threads`."
   ]
  },
  {
   "cell_type": "code",
   "execution_count": 15,
   "metadata": {},
   "outputs": [],
   "source": [
    "omp_set_num_threads(2)"
   ]
  },
  {
   "cell_type": "markdown",
   "metadata": {},
   "source": [
    "## Citations"
   ]
  },
  {
   "cell_type": "markdown",
   "metadata": {},
   "source": [
    "You can access the necessary citations for the specific waveforms with the `citation` property."
   ]
  },
  {
   "cell_type": "code",
   "execution_count": 16,
   "metadata": {},
   "outputs": [
    {
     "name": "stdout",
     "output_type": "stream",
     "text": [
      "\n",
      "@software{michael_l_katz_2022_6500434,\n",
      "  author       = {Michael L. Katz},\n",
      "  title        = {mikekatz04/GBGPU: First official public release!},\n",
      "  month        = apr,\n",
      "  year         = 2022,\n",
      "  publisher    = {Zenodo},\n",
      "  version      = {v1.0.0},\n",
      "  doi          = {10.5281/zenodo.6500434},\n",
      "  url          = {https://doi.org/10.5281/zenodo.6500434}\n",
      "}\n",
      "\n",
      "@article{Cornish:2007if,\n",
      "    author = \"Cornish, Neil J. and Littenberg, Tyson B.\",\n",
      "    title = \"{Tests of Bayesian Model Selection Techniques for Gravitational Wave Astronomy}\",\n",
      "    eprint = \"0704.1808\",\n",
      "    archivePrefix = \"arXiv\",\n",
      "    primaryClass = \"gr-qc\",\n",
      "    doi = \"10.1103/PhysRevD.76.083006\",\n",
      "    journal = \"Phys. Rev. D\",\n",
      "    volume = \"76\",\n",
      "    pages = \"083006\",\n",
      "    year = \"2007\"\n",
      "}\n",
      "\n",
      "@article{Robson:2018svj,\n",
      "    author = \"Robson, Travis and Cornish, Neil J. and Tamanini, Nicola and Toonen, Silvia\",\n",
      "    title = \"{Detecting hierarchical stellar systems with LISA}\",\n",
      "    eprint = \"1806.00500\",\n",
      "    archivePrefix = \"arXiv\",\n",
      "    primaryClass = \"gr-qc\",\n",
      "    doi = \"10.1103/PhysRevD.98.064012\",\n",
      "    journal = \"Phys. Rev. D\",\n",
      "    volume = \"98\",\n",
      "    number = \"6\",\n",
      "    pages = \"064012\",\n",
      "    year = \"2018\"\n",
      "}\n",
      "\n"
     ]
    }
   ],
   "source": [
    "print(gb.citation)"
   ]
  }
 ],
 "metadata": {
  "kernelspec": {
   "display_name": "Python 3",
   "language": "python",
   "name": "python3"
  },
  "language_info": {
   "codemirror_mode": {
    "name": "ipython",
    "version": 3
   },
   "file_extension": ".py",
   "mimetype": "text/x-python",
   "name": "python",
   "nbconvert_exporter": "python",
   "pygments_lexer": "ipython3",
   "version": "3.8.6"
  }
 },
 "nbformat": 4,
 "nbformat_minor": 4
}
